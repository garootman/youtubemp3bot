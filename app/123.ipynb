{
 "cells": [
  {
   "cell_type": "code",
   "execution_count": 1,
   "metadata": {},
   "outputs": [
    {
     "name": "stdout",
     "output_type": "stream",
     "text": [
      "[youtube] Extracting URL: https://www.youtube.com/live/Dv1s15JAAsM?si=BhvL3NUIuhxoEDQx\n",
      "[youtube] Dv1s15JAAsM: Downloading webpage\n",
      "[youtube] Dv1s15JAAsM: Downloading ios player API JSON\n",
      "[youtube] Dv1s15JAAsM: Downloading android player API JSON\n",
      "[youtube] Dv1s15JAAsM: Downloading m3u8 information\n",
      "[info] Dv1s15JAAsM: Downloading 1 format(s): 140\n",
      "[download] audios/Dv1s15JAAsM.m4a has already been downloaded\n",
      "[download] 100% of   61.19MiB\n",
      "Downloaded in 3796 ms: 'BILD на русском: Про...' to audios/Dv1s15JAAsM.m4a, size 61.19 MB\n",
      "audios/Dv1s15JAAsM.m4a BILD на русском: Программа «Статус» с Екатериной Шульман и Максимом Курниковым | 28.05.2024\n"
     ]
    }
   ],
   "source": [
    "import os\n",
    "import time\n",
    "\n",
    "from assist import now, new_id\n",
    "from yt_dlp import YoutubeDL\n",
    "\n",
    "\n",
    "def download_audio(video_id, folder, url=None, task_id=None):\n",
    "    if not task_id:\n",
    "        task_id = new_id()\n",
    "    stt = now(True)\n",
    "    if not url:\n",
    "        url = f\"https://www.youtube.com/watch?v={video_id}\"\n",
    "    retries = 3\n",
    "\n",
    "    # Check if file was already downloaded\n",
    "    filepath = f\"{folder}/{task_id}.m4a\"\n",
    "\n",
    "    \"\"\"\n",
    "    if os.path.exists(filepath):\n",
    "        print(f\"File already exists: {filepath}\")\n",
    "        return filepath, \"unknown\"\n",
    "    \"\"\"\n",
    "\n",
    "    ydl_opts = {\n",
    "        \"format\": \"bestaudio[ext=m4a]/bestaudio\",\n",
    "        \"outtmpl\": f\"{folder}/{video_id}.m4a\",\n",
    "    }\n",
    "\n",
    "    while retries > 0:\n",
    "        try:\n",
    "            with YoutubeDL(ydl_opts) as ydl:\n",
    "                info_dict = ydl.extract_info(url, download=True)\n",
    "                title = f\"{info_dict.get('uploader', 'Unknown')}: {info_dict.get('title', 'Unknown')}\"\n",
    "                print(\n",
    "                    f\"Downloaded in {now(True) - stt} ms: '{title[:20]}...' to {filepath}, size {round(os.path.getsize(filepath)/1024/1024, 2)} MB\"\n",
    "                )\n",
    "                return filepath, title\n",
    "        except Exception as e:\n",
    "            msg = f\"Error downloading {url}: {e}\"\n",
    "            print(msg)\n",
    "            retries -= 1\n",
    "            time.sleep(1)\n",
    "    raise Exception(f\"Failed to download {url}: {msg}\")\n",
    "\n",
    "\n",
    "if __name__ == \"__main__\":\n",
    "    # Test the download_audio function\n",
    "    stream_url = \"https://www.youtube.com/live/Dv1s15JAAsM?si=BhvL3NUIuhxoEDQx\"\n",
    "    p, t = download_audio(\"Dv1s15JAAsM\", \"audios\", stream_url)\n",
    "    print (p, t)"
   ]
  },
  {
   "cell_type": "code",
   "execution_count": 4,
   "metadata": {},
   "outputs": [],
   "source": [
    "task_id = new_id()"
   ]
  },
  {
   "cell_type": "code",
   "execution_count": 6,
   "metadata": {},
   "outputs": [],
   "source": [
    "    ydl_opts = {\n",
    "        \"format\": \"bestaudio[ext=m4a]/bestaudio\",\n",
    "        \"outtmpl\": f\"{folder}/{task_id}.m4a\",\n",
    "    }\n",
    "\n"
   ]
  },
  {
   "cell_type": "code",
   "execution_count": 7,
   "metadata": {},
   "outputs": [],
   "source": [
    "ydl = YoutubeDL(ydl_opts)"
   ]
  },
  {
   "cell_type": "code",
   "execution_count": null,
   "metadata": {},
   "outputs": [],
   "source": []
  },
  {
   "cell_type": "code",
   "execution_count": 3,
   "metadata": {},
   "outputs": [],
   "source": [
    "url = stream_url\n",
    "video_id = \"Dv1s15JAAsM\"\n",
    "folder = \"audios\"\n",
    "task_id=None"
   ]
  }
 ],
 "metadata": {
  "kernelspec": {
   "display_name": ".venv",
   "language": "python",
   "name": "python3"
  },
  "language_info": {
   "codemirror_mode": {
    "name": "ipython",
    "version": 3
   },
   "file_extension": ".py",
   "mimetype": "text/x-python",
   "name": "python",
   "nbconvert_exporter": "python",
   "pygments_lexer": "ipython3",
   "version": "3.10.12"
  }
 },
 "nbformat": 4,
 "nbformat_minor": 2
}
